{
 "cells": [
  {
   "cell_type": "code",
   "execution_count": 2,
   "id": "c2eef16a",
   "metadata": {},
   "outputs": [],
   "source": [
    "import pandas as pd\n",
    "import numpy as np\n",
    "\n",
    "# visualize\n",
    "import seaborn as sns\n",
    "import matplotlib.pyplot as plt\n",
    "plt.rc('figure', figsize=(11, 9))\n",
    "plt.rc('font', size=13)\n",
    "\n",
    "# preparing\n",
    "from sklearn.model_selection import train_test_split\n",
    "from sklearn.preprocessing import LabelEncoder\n",
    "from sklearn.preprocessing import MinMaxScaler\n",
    "from sklearn.impute import SimpleImputer\n",
    "from sklearn.preprocessing import OneHotEncoder\n",
    "\n",
    "# modeling and evaluating\n",
    "from sklearn.linear_model import LogisticRegression\n",
    "from sklearn.metrics import classification_report, confusion_matrix, precision_score, recall_score, accuracy_score\n",
    "\n",
    "# turn off pink warning boxes\n",
    "import warnings\n",
    "warnings.filterwarnings(\"ignore\")\n",
    "\n",
    "# acquire\n",
    "#from explore import anatomy_of_a_figure\n",
    "#from env import host, user, password\n",
    "from pydataset import data"
   ]
  },
  {
   "cell_type": "markdown",
   "id": "7276c0e4-bf5c-4243-ba7a-ac436b652d62",
   "metadata": {},
   "source": [
    "## Classification"
   ]
  },
  {
   "cell_type": "markdown",
   "id": "f146df13-a1b4-4ede-852f-bd80e4e1934e",
   "metadata": {},
   "source": [
    "#### What is Classification?\n",
    "Classification is a Supervised Machine Learning technique. Classification, like Regression, uses labeled data from a training dataset to learn rules for making future predictions on unseen data. However, Classification is used to predict the category membership of the categorical target value or label. For Classification algorithms, you determine the probability of an observation to be part of a certain class or not. Therefore, you express the probability with a value between 0 and 1. A probability close to 1 means the observation is very likely to be part of a group or category.\n",
    "##### Simply put, Regression predicts a continuous variable while classification predicts a categorical variable.add()"
   ]
  },
  {
   "cell_type": "markdown",
   "id": "d7d57937-5e18-4cdf-8477-f8fb99c652b9",
   "metadata": {},
   "source": [
    "#### So What Are the Types of Classification?\n",
    "#### Types of Classification\n",
    "- Binary Classification - This type of classification uses a decision rule to predict an observation to be a member of one of only two groups: churn/not churn, pass/fail, male/female, smoker/non-smoker, healthy/sick.\n",
    "- Multiclass Classification - This type of classification uses a decision rule to predict an observation to be a member of one of three or more possible groups or categories: A/B/C, hot/warm/cold, Python/Java/C++/Go/C"
   ]
  },
  {
   "cell_type": "markdown",
   "id": "594db4fe-8162-4111-a9ef-6d35897dd52a",
   "metadata": {},
   "source": [
    "- Uses for Classification\n",
    "    + Medical Diagnosis\n",
    "    + Spam Detection\n",
    "    + Credit Approval\n",
    "    + Targeted Marketing"
   ]
  },
  {
   "cell_type": "code",
   "execution_count": null,
   "id": "fa73de45-ea27-45c4-a70d-8dbfb41243e4",
   "metadata": {},
   "outputs": [],
   "source": []
  }
 ],
 "metadata": {
  "kernelspec": {
   "display_name": "Python 3 (ipykernel)",
   "language": "python",
   "name": "python3"
  },
  "language_info": {
   "codemirror_mode": {
    "name": "ipython",
    "version": 3
   },
   "file_extension": ".py",
   "mimetype": "text/x-python",
   "name": "python",
   "nbconvert_exporter": "python",
   "pygments_lexer": "ipython3",
   "version": "3.9.7"
  }
 },
 "nbformat": 4,
 "nbformat_minor": 5
}
