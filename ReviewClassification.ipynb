{
 "cells": [
  {
   "cell_type": "code",
   "execution_count": 2,
   "id": "c2eef16a",
   "metadata": {},
   "outputs": [],
   "source": [
    "import pandas as pd\n",
    "import numpy as np\n",
    "\n",
    "# visualize\n",
    "import seaborn as sns\n",
    "import matplotlib.pyplot as plt\n",
    "plt.rc('figure', figsize=(11, 9))\n",
    "plt.rc('font', size=13)\n",
    "\n",
    "# preparing\n",
    "from sklearn.model_selection import train_test_split\n",
    "from sklearn.preprocessing import LabelEncoder\n",
    "from sklearn.preprocessing import MinMaxScaler\n",
    "from sklearn.impute import SimpleImputer\n",
    "from sklearn.preprocessing import OneHotEncoder\n",
    "\n",
    "# modeling and evaluating\n",
    "from sklearn.linear_model import LogisticRegression\n",
    "from sklearn.metrics import classification_report, confusion_matrix, precision_score, recall_score, accuracy_score\n",
    "\n",
    "# turn off pink warning boxes\n",
    "import warnings\n",
    "warnings.filterwarnings(\"ignore\")\n",
    "\n",
    "# acquire\n",
    "#from explore import anatomy_of_a_figure\n",
    "#from env import host, user, password\n",
    "from pydataset import data"
   ]
  },
  {
   "cell_type": "markdown",
   "id": "7276c0e4-bf5c-4243-ba7a-ac436b652d62",
   "metadata": {},
   "source": [
    "## Classification"
   ]
  },
  {
   "cell_type": "markdown",
   "id": "f146df13-a1b4-4ede-852f-bd80e4e1934e",
   "metadata": {},
   "source": [
    "#### What is Classification?\n",
    "Classification is a Supervised Machine Learning technique. Classification, like Regression, uses labeled data from a training dataset to learn rules for making future predictions on unseen data. However, Classification is used to predict the category membership of the categorical target value or label. For Classification algorithms, you determine the probability of an observation to be part of a certain class or not. Therefore, you express the probability with a value between 0 and 1. A probability close to 1 means the observation is very likely to be part of a group or category.\n",
    "##### Simply put, Regression predicts a continuous variable while classification predicts a categorical variable.add()"
   ]
  },
  {
   "cell_type": "markdown",
   "id": "d7d57937-5e18-4cdf-8477-f8fb99c652b9",
   "metadata": {},
   "source": [
    "#### So What Are the Types of Classification?\n",
    "#### Types of Classification\n",
    "- Binary Classification - This type of classification uses a decision rule to predict an observation to be a member of one of only two groups: churn/not churn, pass/fail, male/female, smoker/non-smoker, healthy/sick.\n",
    "- Multiclass Classification - This type of classification uses a decision rule to predict an observation to be a member of one of three or more possible groups or categories: A/B/C, hot/warm/cold, Python/Java/C++/Go/C"
   ]
  },
  {
   "cell_type": "markdown",
   "id": "594db4fe-8162-4111-a9ef-6d35897dd52a",
   "metadata": {},
   "source": [
    "- Uses for Classification\n",
    "    + Medical Diagnosis\n",
    "    + Spam Detection\n",
    "    + Credit Approval\n",
    "    + Targeted Marketing"
   ]
  },
  {
   "cell_type": "markdown",
   "id": "9d5e230c-4465-4acf-8643-6fbeab11a1ae",
   "metadata": {},
   "source": [
    "### Hypothesis Testing\n",
    "#### What is Hypothesis Testing?"
   ]
  },
  {
   "cell_type": "markdown",
   "id": "4acfaae9-ac22-41f5-92a3-9fd56ec452f4",
   "metadata": {},
   "source": [
    "- Hypothesis tests are used to draw conclusions, answer questions, or interpret beliefs we have about a population using sample data.\n",
    "- A hypothesis test evaluates two mutually exclusive statements about a population and informs us which statement is best supported by our sample data.\n",
    "- 𝐻0: There is no difference between smokers' tips and the overall population's tip average.\n",
    "- 𝐻𝑎: There is a difference between smokers' tips and the overall population's tip average.\n",
    "- After running and interpreting the values returned by the appropriate statistical test for my data, I will either fail to reject or reject the Null Hypothesis.\n",
    "\n",
    "Here is a simple, yet detailed explanation of this process if you need a little more."
   ]
  },
  {
   "cell_type": "markdown",
   "id": "fa67a382-a2d2-460e-bb5e-d3cd72f06c87",
   "metadata": {},
   "source": [
    "### Important Terms\n",
    "- a confidence level is the probability that if a poll/test/survey were repeated over and over again, the results obtained would be the same. It conveys how confident we are in our results. Raising your confidence level lowers your chances of Type I Errors, or False Positives. (Common examples might be 90%, 95%, or 99%)\n",
    "- alpha -->  𝑎 = 1 - confidence level. If the resulting p-value from the hypothesis test is less than the 𝑎, which you set before you begin the test, then the test findings are significant. If it is close, it is at your discretion. The results still may be significant even though slightly above your chosen cutoff. Also, alpha is the maximum probability that you have a Type I Error.\n",
    "- For a 95% confidence level, the value of alpha is .05 which means there is a 5% chance that you will make a Type I Error (False Positive) or reject a True Null hypothesis.\n",
    "- t-statistic is simply the calculated difference represented in units of standard error. The greater the magnitude of t, the greater the evidence against the null hypothesis. Why does it matter? Short Answer: It allows us to calculate our p-value!\n",
    "- p-values are values we obtain from hypothesis testing. They represent the probability that our obtained result is due to chance given that our stated hypothesis is true."
   ]
  },
  {
   "cell_type": "code",
   "execution_count": null,
   "id": "ef31635d-d65f-44a1-be98-10b18e66616b",
   "metadata": {},
   "outputs": [],
   "source": []
  }
 ],
 "metadata": {
  "kernelspec": {
   "display_name": "Python 3 (ipykernel)",
   "language": "python",
   "name": "python3"
  },
  "language_info": {
   "codemirror_mode": {
    "name": "ipython",
    "version": 3
   },
   "file_extension": ".py",
   "mimetype": "text/x-python",
   "name": "python",
   "nbconvert_exporter": "python",
   "pygments_lexer": "ipython3",
   "version": "3.9.7"
  }
 },
 "nbformat": 4,
 "nbformat_minor": 5
}
