{
 "cells": [
  {
   "cell_type": "code",
   "execution_count": 2,
   "id": "90ca77d2",
   "metadata": {},
   "outputs": [],
   "source": [
    "import pandas as pd\n",
    "import numpy as np"
   ]
  },
  {
   "cell_type": "markdown",
   "id": "15951430",
   "metadata": {},
   "source": [
    "### Write a function that takes an array of integers and a target integer, then returns the indices of the two integers that add up to the target. You may assume that each input would have exactly one solution, and you may not use the same element twice.\n",
    "\n",
    "Example:\n",
    "\n",
    "\n",
    "Input: [ 1, 4, 8, 12 ], 20 | Output: [ 2, 3 ]\n"
   ]
  },
  {
   "cell_type": "code",
   "execution_count": null,
   "id": "ba96220d",
   "metadata": {},
   "outputs": [],
   "source": []
  },
  {
   "cell_type": "markdown",
   "id": "ac970b64",
   "metadata": {},
   "source": [
    "### Write a function that sorts a string in decreasing order based on the frequency of the characters within it.\n",
    "\n",
    "Examples:\n",
    "\n",
    "\n",
    "Input: \"bee\" | Output:\"eeb\"\n",
    "Input: \"Abaaacdb\" | Output: \"aaabbAcd\""
   ]
  },
  {
   "cell_type": "code",
   "execution_count": null,
   "id": "c5f845b4",
   "metadata": {},
   "outputs": [],
   "source": []
  },
  {
   "cell_type": "markdown",
   "id": "9f2f8409",
   "metadata": {},
   "source": [
    "### Return the length of the longest possible palindrome within a given string.\n",
    "\n",
    "Examples:\n",
    "\n",
    "\n",
    "Input: \"bbadbb\" | Output:5 (bbabb or bbdbb)\n",
    "Input: \"bcd\" | Output: 1 (b, c, or d)"
   ]
  },
  {
   "cell_type": "code",
   "execution_count": null,
   "id": "aaf13740",
   "metadata": {},
   "outputs": [],
   "source": []
  },
  {
   "cell_type": "markdown",
   "id": "1c792f4d",
   "metadata": {},
   "source": [
    "### Write a function that finds the least number of perfect squares that add up to the given integer.\n",
    "\n",
    "Examples:\n",
    "\n",
    "\n",
    "Input: 12 | Output:3 (4 + 4 + 4)\n",
    "Input: 13 | Output: 2 (4 + 9)"
   ]
  },
  {
   "cell_type": "code",
   "execution_count": null,
   "id": "67c939bd",
   "metadata": {},
   "outputs": [],
   "source": []
  },
  {
   "cell_type": "markdown",
   "id": "8581bcfd",
   "metadata": {},
   "source": [
    "### Write a function that will divide two integers without using the multiplication, division, or modulo operators (yes, we will check your code :P).\n",
    "\n"
   ]
  },
  {
   "cell_type": "code",
   "execution_count": null,
   "id": "e5b7d91b",
   "metadata": {},
   "outputs": [],
   "source": []
  },
  {
   "cell_type": "markdown",
   "id": "5a4cf6ed",
   "metadata": {},
   "source": [
    "### Return the integer equivalent of a given Roman numeral string. (Max = 1000)\n",
    "\n",
    "Example:\n",
    "\n",
    "\n",
    "Input: XXIV | Output: 24"
   ]
  },
  {
   "cell_type": "code",
   "execution_count": null,
   "id": "a42b3906",
   "metadata": {},
   "outputs": [],
   "source": []
  },
  {
   "cell_type": "markdown",
   "id": "6d91419d",
   "metadata": {},
   "source": [
    "### Write a function that will take a positive integer, convert it to binary, reverse the binary string, then return this reversed string in decimal form.\n",
    "\n",
    "Example:\n",
    "\n",
    "\n",
    "Input: 35 | Output: 49"
   ]
  },
  {
   "cell_type": "code",
   "execution_count": null,
   "id": "114250bc",
   "metadata": {},
   "outputs": [],
   "source": []
  },
  {
   "cell_type": "markdown",
   "id": "ec212dd6",
   "metadata": {},
   "source": [
    "### Given an integer parameter, write a function that will return the next greater number using the same digits.\n",
    "\n",
    "Example:\n",
    "\n",
    "\n",
    "Input: 230 | Output: 302"
   ]
  },
  {
   "cell_type": "code",
   "execution_count": null,
   "id": "90b0bd7f",
   "metadata": {},
   "outputs": [],
   "source": []
  },
  {
   "cell_type": "markdown",
   "id": "47e7f8e8",
   "metadata": {},
   "source": [
    "### Return the sum of all of the numbers in a given string divided by the number of letters. The answer should be rounded to the nearest whole number.\n",
    "\n",
    "Example:\n",
    "\n",
    "\n",
    "Input: H3llo fr13nd9 | Output: 2 (9+3+3+1 = 16, 16 / 8 letters = 2)"
   ]
  },
  {
   "cell_type": "code",
   "execution_count": null,
   "id": "59ecce6b",
   "metadata": {},
   "outputs": [],
   "source": []
  },
  {
   "cell_type": "markdown",
   "id": "c8a41f71",
   "metadata": {},
   "source": [
    "### Write a function that determines whether or not a given string is a valid password. A password must follow these rules:\n",
    "\n",
    "    It must have a capital letter.\n",
    "\n",
    "    It must have at least one number.\n",
    "\n",
    "    It must contain a punctuation mark.\n",
    "\n",
    "    It cannot have the word \"password\" in it.\n",
    "\n",
    "    It must be longer than 7 characters and shorter than 21 characters.\n",
    "\n",
    "Examples:\n",
    "\n",
    "\n",
    "Input: passWord101! | Output: false\n",
    "Input: codE35? | Output: true"
   ]
  },
  {
   "cell_type": "code",
   "execution_count": null,
   "id": "7854cadd",
   "metadata": {},
   "outputs": [],
   "source": []
  },
  {
   "cell_type": "markdown",
   "id": "2e64032c",
   "metadata": {},
   "source": [
    "### Let’s start this off with Pokemon Go! (\"Team Instinct woo!\") :D To evolve a pokemon costs candy, but every time you catch a pokemon you get some candy. When you evolve a pokemon you are given a candy in return. You can also get rid of surplus pokemon in exchange for 1 candy of their type. Your job is to write a function that takes 2 integers as arguments: the number of Pidgeys you have and the amount of candy you have, and return the maximum XP gained from evolving the highest possible number of Pidgeys.\n",
    "\n",
    "(Note: evolving a Pidgey costs 12 candy and returns 500 XP)\n",
    "\n",
    "Example:\n",
    "\n",
    "\n",
    "Input: 2, 23 | Output: 1000"
   ]
  },
  {
   "cell_type": "code",
   "execution_count": null,
   "id": "3ffb4d71",
   "metadata": {},
   "outputs": [],
   "source": []
  },
  {
   "cell_type": "markdown",
   "id": "f841d24e",
   "metadata": {},
   "source": [
    "### Return an array of standard CSS hex notation colors from a given string of ASCII characters. For every 3 characters, include the associated color. If the input string is not evenly divisible by three, ignore any trailing characters.\n",
    "\n",
    "Example:\n",
    "\n",
    "\n",
    "Input: B%1A | Output: [ \"#422531\" ]"
   ]
  },
  {
   "cell_type": "code",
   "execution_count": null,
   "id": "49b94350",
   "metadata": {},
   "outputs": [],
   "source": []
  },
  {
   "cell_type": "code",
   "execution_count": null,
   "id": "a9fe18df",
   "metadata": {},
   "outputs": [],
   "source": []
  },
  {
   "cell_type": "code",
   "execution_count": null,
   "id": "4144a7dd",
   "metadata": {},
   "outputs": [],
   "source": []
  },
  {
   "cell_type": "code",
   "execution_count": null,
   "id": "31ce7b6f",
   "metadata": {},
   "outputs": [],
   "source": []
  },
  {
   "cell_type": "code",
   "execution_count": null,
   "id": "79ce417a",
   "metadata": {},
   "outputs": [],
   "source": []
  },
  {
   "cell_type": "code",
   "execution_count": null,
   "id": "f62c3c3c",
   "metadata": {},
   "outputs": [],
   "source": []
  },
  {
   "cell_type": "code",
   "execution_count": null,
   "id": "2d93ea0d",
   "metadata": {},
   "outputs": [],
   "source": []
  },
  {
   "cell_type": "code",
   "execution_count": null,
   "id": "87028866",
   "metadata": {},
   "outputs": [],
   "source": []
  },
  {
   "cell_type": "code",
   "execution_count": null,
   "id": "f92402d9",
   "metadata": {},
   "outputs": [],
   "source": []
  },
  {
   "cell_type": "code",
   "execution_count": null,
   "id": "69ba3f9b",
   "metadata": {},
   "outputs": [],
   "source": []
  },
  {
   "cell_type": "code",
   "execution_count": null,
   "id": "adbcb122",
   "metadata": {},
   "outputs": [],
   "source": []
  },
  {
   "cell_type": "code",
   "execution_count": null,
   "id": "8646ad52",
   "metadata": {},
   "outputs": [],
   "source": []
  }
 ],
 "metadata": {
  "kernelspec": {
   "display_name": "Python 3 (ipykernel)",
   "language": "python",
   "name": "python3"
  },
  "language_info": {
   "codemirror_mode": {
    "name": "ipython",
    "version": 3
   },
   "file_extension": ".py",
   "mimetype": "text/x-python",
   "name": "python",
   "nbconvert_exporter": "python",
   "pygments_lexer": "ipython3",
   "version": "3.9.7"
  }
 },
 "nbformat": 4,
 "nbformat_minor": 5
}
