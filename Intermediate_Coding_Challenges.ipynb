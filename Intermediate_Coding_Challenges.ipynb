{
 "cells": [
  {
   "cell_type": "code",
   "execution_count": 2,
   "id": "ebc3ba1d",
   "metadata": {},
   "outputs": [],
   "source": [
    "import pandas as pd\n",
    "import numpy as np"
   ]
  },
  {
   "cell_type": "markdown",
   "id": "9495c6c1",
   "metadata": {},
   "source": [
    "### Write a function that takes an array of integers and a target integer, then returns the indices of the two integers that add up to the target. You may assume that each input would have exactly one solution, and you may not use the same element twice.\n",
    "\n",
    "Example:\n",
    "\n",
    "\n",
    "Input: [ 1, 4, 8, 12 ], 20 | Output: [ 2, 3 ]\n"
   ]
  },
  {
   "cell_type": "code",
   "execution_count": 8,
   "id": "e4e08810",
   "metadata": {},
   "outputs": [],
   "source": [
    "def int_indices(nums, target):\n",
    "    '''\n",
    "For index i in range 0 to n – 1 (where n is the number of elements in the array)\n",
    "if target − nums[i] is present in list\n",
    "return res[target − nums[i]] and i as indices\n",
    "Otherwise put i into the res as list[nums[i]] − = i\n",
    "    '''\n",
    "    lst ={}\n",
    "    for i in range(len(nums)):\n",
    "        if target - nums[i] in lst:\n",
    "            return [lst[target - nums[i]], i]\n",
    "        else:\n",
    "            lst[nums[i]] = i"
   ]
  },
  {
   "cell_type": "code",
   "execution_count": 13,
   "id": "69d1d3a4",
   "metadata": {},
   "outputs": [
    {
     "data": {
      "text/plain": [
       "[0, 2]"
      ]
     },
     "execution_count": 13,
     "metadata": {},
     "output_type": "execute_result"
    }
   ],
   "source": [
    "int_indices([ 1, 7, 199, 12], 200)"
   ]
  },
  {
   "cell_type": "markdown",
   "id": "9646e36c",
   "metadata": {},
   "source": [
    "### Write a function that sorts a string in decreasing order based on the frequency of the characters within it.\n",
    "\n",
    "Examples:\n",
    "\n",
    "\n",
    "Input: \"bee\" | Output:\"eeb\"\n",
    "Input: \"Abaaacdb\" | Output: \"aaabbAcd\""
   ]
  },
  {
   "cell_type": "code",
   "execution_count": 31,
   "id": "5f46385b",
   "metadata": {},
   "outputs": [],
   "source": [
    "def sort_str(str_input):\n",
    "    str_sorted = sorted(str_input)\n",
    "    final_sorted = sorted(str_sorted, key=lambda c:str_sorted.count(c), reverse = True)\n",
    "    str_final = \"\".join(final_sorted)\n",
    "    return str_final"
   ]
  },
  {
   "cell_type": "code",
   "execution_count": 32,
   "id": "25282d80",
   "metadata": {},
   "outputs": [
    {
     "data": {
      "text/plain": [
       "'eeb'"
      ]
     },
     "execution_count": 32,
     "metadata": {},
     "output_type": "execute_result"
    }
   ],
   "source": [
    "sort_str('bee')"
   ]
  },
  {
   "cell_type": "markdown",
   "id": "d5968ab8",
   "metadata": {},
   "source": [
    "### Return the length of the longest possible palindrome within a given string.\n",
    "\n",
    "Examples:\n",
    "\n",
    "\n",
    "Input: \"bbadbb\" | Output:5 (bbabb or bbdbb)\n",
    "Input: \"bcd\" | Output: 1 (b, c, or d)"
   ]
  },
  {
   "cell_type": "code",
   "execution_count": 36,
   "id": "cfd0ae78",
   "metadata": {},
   "outputs": [],
   "source": [
    "def expand(s, low, high):\n",
    "    length = len(s)\n",
    " \n",
    "    # expand in both directions\n",
    "    while low >= 0 and high < length and s[low] == s[high]:\n",
    "        low = low - 1\n",
    "        high = high + 1\n",
    " \n",
    "    # return palindromic substring\n",
    "    return s[low + 1:high]\n",
    "\n",
    "def palindrome(s):\n",
    "    length = len(s)\n",
    "    max_str = ''\n",
    "    max_length = 0\n",
    "\n",
    "    for i in range(len(s)):\n",
    "        curr_str = expand(s, i, i)\n",
    "        curr_length = len(curr_str)\n",
    "        \n",
    "        if curr_length > max_length:\n",
    "            max_length = curr_length\n",
    "            max_str = curr_str\n",
    "        \n",
    "        curr_str = expand(s, i, i + 1)\n",
    "        curr_length = len(curr_str)\n",
    "        \n",
    "        if curr_length > max_length:\n",
    "            max_length = curr_length\n",
    "            max_str = curr_str\n",
    "        return max_str"
   ]
  },
  {
   "cell_type": "code",
   "execution_count": 37,
   "id": "9fa7079c",
   "metadata": {},
   "outputs": [
    {
     "data": {
      "text/plain": [
       "'bb'"
      ]
     },
     "execution_count": 37,
     "metadata": {},
     "output_type": "execute_result"
    }
   ],
   "source": [
    "palindrome('bbadbb')"
   ]
  },
  {
   "cell_type": "markdown",
   "id": "1955b710",
   "metadata": {},
   "source": [
    "### Write a function that finds the least number of perfect squares that add up to the given integer.\n",
    "\n",
    "Examples:\n",
    "\n",
    "\n",
    "Input: 12 | Output:3 (4 + 4 + 4)\n",
    "Input: 13 | Output: 2 (4 + 9)"
   ]
  },
  {
   "cell_type": "code",
   "execution_count": null,
   "id": "64f8ca6b",
   "metadata": {},
   "outputs": [],
   "source": []
  },
  {
   "cell_type": "markdown",
   "id": "8eeb9ef4",
   "metadata": {},
   "source": [
    "### Write a function that will divide two integers without using the multiplication, division, or modulo operators (yes, we will check your code :P).\n",
    "\n"
   ]
  },
  {
   "cell_type": "code",
   "execution_count": null,
   "id": "143daa45",
   "metadata": {},
   "outputs": [],
   "source": []
  },
  {
   "cell_type": "markdown",
   "id": "4caa6493",
   "metadata": {},
   "source": [
    "### Return the integer equivalent of a given Roman numeral string. (Max = 1000)\n",
    "\n",
    "Example:\n",
    "\n",
    "\n",
    "Input: XXIV | Output: 24"
   ]
  },
  {
   "cell_type": "code",
   "execution_count": null,
   "id": "13cdc275",
   "metadata": {},
   "outputs": [],
   "source": []
  },
  {
   "cell_type": "markdown",
   "id": "580c87b0",
   "metadata": {},
   "source": [
    "### Write a function that will take a positive integer, convert it to binary, reverse the binary string, then return this reversed string in decimal form.\n",
    "\n",
    "Example:\n",
    "\n",
    "\n",
    "Input: 35 | Output: 49"
   ]
  },
  {
   "cell_type": "code",
   "execution_count": null,
   "id": "773de845",
   "metadata": {},
   "outputs": [],
   "source": []
  },
  {
   "cell_type": "markdown",
   "id": "e3a20ebb",
   "metadata": {},
   "source": [
    "### Given an integer parameter, write a function that will return the next greater number using the same digits.\n",
    "\n",
    "Example:\n",
    "\n",
    "\n",
    "Input: 230 | Output: 302"
   ]
  },
  {
   "cell_type": "code",
   "execution_count": null,
   "id": "8b303180",
   "metadata": {},
   "outputs": [],
   "source": []
  },
  {
   "cell_type": "markdown",
   "id": "d804defb",
   "metadata": {},
   "source": [
    "### Return the sum of all of the numbers in a given string divided by the number of letters. The answer should be rounded to the nearest whole number.\n",
    "\n",
    "Example:\n",
    "\n",
    "\n",
    "Input: H3llo fr13nd9 | Output: 2 (9+3+3+1 = 16, 16 / 8 letters = 2)"
   ]
  },
  {
   "cell_type": "code",
   "execution_count": null,
   "id": "9dd656af",
   "metadata": {},
   "outputs": [],
   "source": []
  },
  {
   "cell_type": "markdown",
   "id": "6a694244",
   "metadata": {},
   "source": [
    "### Write a function that determines whether or not a given string is a valid password. A password must follow these rules:\n",
    "\n",
    "    It must have a capital letter.\n",
    "\n",
    "    It must have at least one number.\n",
    "\n",
    "    It must contain a punctuation mark.\n",
    "\n",
    "    It cannot have the word \"password\" in it.\n",
    "\n",
    "    It must be longer than 7 characters and shorter than 21 characters.\n",
    "\n",
    "Examples:\n",
    "\n",
    "\n",
    "Input: passWord101! | Output: false\n",
    "Input: codE35? | Output: true"
   ]
  },
  {
   "cell_type": "code",
   "execution_count": null,
   "id": "9e868ac8",
   "metadata": {},
   "outputs": [],
   "source": []
  },
  {
   "cell_type": "markdown",
   "id": "b61bd13f",
   "metadata": {},
   "source": [
    "### Let’s start this off with Pokemon Go! (\"Team Instinct woo!\") :D To evolve a pokemon costs candy, but every time you catch a pokemon you get some candy. When you evolve a pokemon you are given a candy in return. You can also get rid of surplus pokemon in exchange for 1 candy of their type. Your job is to write a function that takes 2 integers as arguments: the number of Pidgeys you have and the amount of candy you have, and return the maximum XP gained from evolving the highest possible number of Pidgeys.\n",
    "\n",
    "(Note: evolving a Pidgey costs 12 candy and returns 500 XP)\n",
    "\n",
    "Example:\n",
    "\n",
    "\n",
    "Input: 2, 23 | Output: 1000"
   ]
  },
  {
   "cell_type": "code",
   "execution_count": null,
   "id": "2ac2b358",
   "metadata": {},
   "outputs": [],
   "source": []
  },
  {
   "cell_type": "markdown",
   "id": "a8628fa2",
   "metadata": {},
   "source": [
    "### Return an array of standard CSS hex notation colors from a given string of ASCII characters. For every 3 characters, include the associated color. If the input string is not evenly divisible by three, ignore any trailing characters.\n",
    "\n",
    "Example:\n",
    "\n",
    "\n",
    "Input: B%1A | Output: [ \"#422531\" ]"
   ]
  },
  {
   "cell_type": "code",
   "execution_count": null,
   "id": "97520b4c",
   "metadata": {},
   "outputs": [],
   "source": []
  },
  {
   "cell_type": "code",
   "execution_count": null,
   "id": "9638fe61",
   "metadata": {},
   "outputs": [],
   "source": []
  },
  {
   "cell_type": "code",
   "execution_count": null,
   "id": "1ac915cf",
   "metadata": {},
   "outputs": [],
   "source": []
  },
  {
   "cell_type": "code",
   "execution_count": null,
   "id": "e554d21f",
   "metadata": {},
   "outputs": [],
   "source": []
  },
  {
   "cell_type": "code",
   "execution_count": null,
   "id": "47a95149",
   "metadata": {},
   "outputs": [],
   "source": []
  },
  {
   "cell_type": "code",
   "execution_count": null,
   "id": "5a496337",
   "metadata": {},
   "outputs": [],
   "source": []
  },
  {
   "cell_type": "code",
   "execution_count": null,
   "id": "b1e7aa3c",
   "metadata": {},
   "outputs": [],
   "source": []
  },
  {
   "cell_type": "code",
   "execution_count": null,
   "id": "f913252c",
   "metadata": {},
   "outputs": [],
   "source": []
  },
  {
   "cell_type": "code",
   "execution_count": null,
   "id": "fcbcfa33",
   "metadata": {},
   "outputs": [],
   "source": []
  },
  {
   "cell_type": "code",
   "execution_count": null,
   "id": "2c773d96",
   "metadata": {},
   "outputs": [],
   "source": []
  },
  {
   "cell_type": "code",
   "execution_count": null,
   "id": "be361afe",
   "metadata": {},
   "outputs": [],
   "source": []
  },
  {
   "cell_type": "code",
   "execution_count": null,
   "id": "7dc8e78e",
   "metadata": {},
   "outputs": [],
   "source": []
  }
 ],
 "metadata": {
  "kernelspec": {
   "display_name": "Python 3 (ipykernel)",
   "language": "python",
   "name": "python3"
  },
  "language_info": {
   "codemirror_mode": {
    "name": "ipython",
    "version": 3
   },
   "file_extension": ".py",
   "mimetype": "text/x-python",
   "name": "python",
   "nbconvert_exporter": "python",
   "pygments_lexer": "ipython3",
   "version": "3.9.7"
  }
 },
 "nbformat": 4,
 "nbformat_minor": 5
}
