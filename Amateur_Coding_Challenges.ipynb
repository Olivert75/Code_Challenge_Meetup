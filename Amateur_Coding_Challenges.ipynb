{
 "cells": [
  {
   "cell_type": "markdown",
   "id": "c9880a3c",
   "metadata": {},
   "source": [
    "#### Write a function that returns the SUM of a sequence of numbers. This sequence is determined by three variables: start, finish, and step. The sequence begins at start, ends at finish, and goes up by step until it reaches finish or a number that when increased by step would go past finish.\n",
    "\n",
    "Examples:\n",
    "\n",
    "\n",
    "Input: start: 1 finish: 4 step: 1 | Output: 10\n",
    "Input: start: 4 finish: 10 step: | Output: 13"
   ]
  },
  {
   "cell_type": "code",
   "execution_count": null,
   "id": "5b5abd74",
   "metadata": {},
   "outputs": [],
   "source": []
  },
  {
   "cell_type": "markdown",
   "id": "3dd1b213",
   "metadata": {},
   "source": [
    "#### Given a string of any length with any characters in it, write a function to determine whether or not the string contains the whole word \"english\". The order of characters/spelling is important, a string \"agkjnenglishsad\" would return true while \"asdneglihsth\" would return false. Upper and lower case does not matter. Return values should be booleans (true/false).\n",
    "\n",
    "Examples:\n",
    "\n",
    "\n",
    "Input: \"FaagdnglishAGG\" | Output: false\n",
    "Input: \"SMFENgliSHasnD\" | Output: true\n"
   ]
  },
  {
   "cell_type": "code",
   "execution_count": null,
   "id": "b32f11ef",
   "metadata": {},
   "outputs": [],
   "source": []
  },
  {
   "cell_type": "markdown",
   "id": "ff98e50c",
   "metadata": {},
   "source": [
    "#### Given an array of integers, write a function that returns an array of 2 integers. The first integer will be the count of the positive integers, and the second integer will be the sum of the negative integers. If the input is empty or null, return an empty array.\n",
    "\n",
    "Examples:\n",
    "\n",
    "\n",
    "Input: [1, -6, 5, 4, 3, -7, -10, 201, -3] | Output: [5, -26]\n",
    "Input: null | Output: []"
   ]
  },
  {
   "cell_type": "code",
   "execution_count": null,
   "id": "0e238a3c",
   "metadata": {},
   "outputs": [],
   "source": []
  },
  {
   "cell_type": "markdown",
   "id": "db8e75d3",
   "metadata": {},
   "source": [
    "#### Write a function that translates an input string by replacing each character with a number representing the amount of times that character appears in the string. Then separate each individual number with a different character.\n",
    "\n",
    "Examples:\n",
    "\n",
    "\n",
    "Input: \"hello world\", \"-\" | Output: \"1-1-3-3-2-1-1-2-1-3-1\"\n",
    "Input: \"challenge\", \"/\" | Output: \"1/1/1/2/2/2/1/1/2\""
   ]
  },
  {
   "cell_type": "code",
   "execution_count": null,
   "id": "003f8f06",
   "metadata": {},
   "outputs": [],
   "source": []
  },
  {
   "cell_type": "markdown",
   "id": "872d58f4",
   "metadata": {},
   "source": [
    "#### Given a string of names like this: \"Travis:Meyer;Gene:Carangal;Tom:Young;Jeff:Meyer\", write a function that makes the entire string uppercase and sorts it in alphabetical order by last name. If the last names are the same sort them by the first name. Put the last name in front of the first name, remove the colons and semicolons, put the names in parentheses and separate the names with commas.\n",
    "\n",
    "Example:\n",
    "\n",
    "The end string should look like this: \"(CARANGAL, GENE)(MEYER, JEFF)(MEYER, TRAVIS)(YOUNG, TOM)\""
   ]
  },
  {
   "cell_type": "code",
   "execution_count": null,
   "id": "b76de8a0",
   "metadata": {},
   "outputs": [],
   "source": []
  },
  {
   "cell_type": "markdown",
   "id": "b84f6671",
   "metadata": {},
   "source": [
    "#### Write a function to calculate a person’s age based on the date entered in the format MM/DD/YYYY.\n",
    "\n",
    "Example:\n",
    "\n",
    "\n",
    "Input: 11/04/1982\n",
    "Output: 34"
   ]
  },
  {
   "cell_type": "code",
   "execution_count": null,
   "id": "a3e256ef",
   "metadata": {},
   "outputs": [],
   "source": []
  },
  {
   "cell_type": "markdown",
   "id": "982d116b",
   "metadata": {},
   "source": [
    "#### Write a function to convert a string into an array of words.\n",
    "\n",
    "Example:\n",
    "\n",
    "\n",
    "Input: \"Trick or Treat\"\n",
    "Output: [‘Trick’, ‘or’, ‘Treat’]"
   ]
  },
  {
   "cell_type": "code",
   "execution_count": null,
   "id": "7c62bb52",
   "metadata": {},
   "outputs": [],
   "source": []
  },
  {
   "cell_type": "markdown",
   "id": "b1b96a6f",
   "metadata": {},
   "source": [
    "#### Write a function to count the number of occurrences of a substring in a given string.\n",
    "\n",
    "Example:\n",
    "\n",
    "\n",
    "Input: \"The pumpkin rolled down the hill and under someone’s car.\", \"the\"\n",
    "Output: 2\n"
   ]
  },
  {
   "cell_type": "code",
   "execution_count": null,
   "id": "1ddfb6ad",
   "metadata": {},
   "outputs": [],
   "source": []
  },
  {
   "cell_type": "markdown",
   "id": "03f92259",
   "metadata": {},
   "source": [
    "#### Write a function to remove these special characters from a string: ~,!,$,&,%, ,#,@,-,_,^,? (yes, \"space\" is a character in that list)\n",
    "\n",
    "Examples:\n",
    "\n",
    "\n",
    "Input: \"Happy ~!&$%#@- Halloween\" | Output: \"HappyHalloween\"\n",
    "Input: \"I’ll bet living in a nudist-colony takes all the fun out of Halloween!!\" | Output: \"IllbetlivinginanudistcolonytakesallthefunoutofHalloween\""
   ]
  },
  {
   "cell_type": "code",
   "execution_count": null,
   "id": "16f2c79c",
   "metadata": {},
   "outputs": [],
   "source": []
  },
  {
   "cell_type": "markdown",
   "id": "b34d0106",
   "metadata": {},
   "source": [
    "#### Write a function called \"multiply\" that takes two integers and returns the product. You are NOT allowed to use the * operator or any imported multiplication function. We will check your code.\n",
    "\n",
    "Example:\n",
    "\n",
    "\n",
    "Input: multiply(5, 6) | Output: 30\n",
    "Input: multiply(-1, 15) | Output: -15\n",
    "Input: multiply(-2, -7) | Output: 14"
   ]
  },
  {
   "cell_type": "code",
   "execution_count": null,
   "id": "574f997d",
   "metadata": {},
   "outputs": [],
   "source": []
  },
  {
   "cell_type": "markdown",
   "id": "aab79e49",
   "metadata": {},
   "source": [
    "#### Write a function that takes a string and returns true if all of the characters are the same case, false otherwise.\n",
    "\n",
    "Examples:\n",
    "\n",
    "\n",
    "Input: \"hello world\" | Output: true\n",
    "Input: \"HELLO WORLD\" | Output: true\n",
    "Input: \"HeLLo wORld\" | Output: false"
   ]
  },
  {
   "cell_type": "code",
   "execution_count": null,
   "id": "20b7d1a6",
   "metadata": {},
   "outputs": [],
   "source": []
  },
  {
   "cell_type": "markdown",
   "id": "5373d804",
   "metadata": {},
   "source": [
    "#### Write a function that takes an array of integers and returns an array of integers where each number is the sum of itself and all of the previous numbers in the array.\n",
    "\n",
    "Example:\n",
    "\n",
    "\n",
    "Input: [1, 1, 1] | Output: [1, 2, 3]\n",
    "Input: [4, 2, 1, 3, 5] | Output: [4, 6, 7, 10, 15]"
   ]
  },
  {
   "cell_type": "code",
   "execution_count": null,
   "id": "766e1d90",
   "metadata": {},
   "outputs": [],
   "source": []
  },
  {
   "cell_type": "markdown",
   "id": "c51a1e91",
   "metadata": {},
   "source": [
    "#### An Isogram is a word that has no repeating letters, consecutive or not. Write a function that takes a string and returns true if it’s an isogram and false if it isn’t.\n",
    "\n",
    "Examples:\n",
    "\n",
    "\n",
    "Input: \"fish\" | Output: true\n",
    "Input: \"food\" | Output: false\n",
    "Input: \"color\" | Output: false\n"
   ]
  },
  {
   "cell_type": "code",
   "execution_count": null,
   "id": "0a78c0d1",
   "metadata": {},
   "outputs": [],
   "source": []
  },
  {
   "cell_type": "markdown",
   "id": "e3c8e305",
   "metadata": {},
   "source": [
    "#### Write a function that takes a phone number with letters in it and converts it to one with only numbers. All input phone numbers will follow this pattern: \"###-###-####\" (Hint: Search for \"phone keypad\")\n",
    "\n",
    "Examples:\n",
    "\n",
    "\n",
    "Input: 210-367-CODE | Output: 210-367-2633\n",
    "Input: TRY-THE-FOOD | Output: 879-843-3663"
   ]
  },
  {
   "cell_type": "code",
   "execution_count": null,
   "id": "13fa7898",
   "metadata": {},
   "outputs": [],
   "source": []
  },
  {
   "cell_type": "markdown",
   "id": "b6956632",
   "metadata": {},
   "source": [
    "#### Write a function that returns all possible partitions of an array from left to right. With an n amount of elements in the input the returned array should have n-1 subarrays. An empty array should return an empty array.\n",
    "\n",
    "Examples:\n",
    "\n",
    "\n",
    "Input: [1, 5, 3, 2] | Output: [[[1], [5, 3, 2]], [[1, 5], [3, 2]], [[1, 5, 3], [2]]]\n",
    "Input: [a, b, c] | Output: [[[a], [b, c]], [[a, b], [c]]]"
   ]
  },
  {
   "cell_type": "code",
   "execution_count": null,
   "id": "e98399d1",
   "metadata": {},
   "outputs": [],
   "source": []
  }
 ],
 "metadata": {
  "kernelspec": {
   "display_name": "Python 3 (ipykernel)",
   "language": "python",
   "name": "python3"
  },
  "language_info": {
   "codemirror_mode": {
    "name": "ipython",
    "version": 3
   },
   "file_extension": ".py",
   "mimetype": "text/x-python",
   "name": "python",
   "nbconvert_exporter": "python",
   "pygments_lexer": "ipython3",
   "version": "3.9.7"
  }
 },
 "nbformat": 4,
 "nbformat_minor": 5
}
