{
 "cells": [
  {
   "cell_type": "code",
   "execution_count": 21,
   "id": "7db98616",
   "metadata": {},
   "outputs": [],
   "source": [
    "import pandas as pd\n",
    "import numpy as py"
   ]
  },
  {
   "cell_type": "markdown",
   "id": "1cfb1cb4",
   "metadata": {},
   "source": [
    "#### Write a function that returns the SUM of a sequence of numbers. This sequence is determined by three variables: start, finish, and step. The sequence begins at start, ends at finish, and goes up by step until it reaches finish or a number that when increased by step would go past finish.\n",
    "\n",
    "Examples:\n",
    "\n",
    "\n",
    "Input: start: 1 finish: 4 step: 1 | Output: 10\n",
    "Input: start: 4 finish: 10 step: | Output: 13"
   ]
  },
  {
   "cell_type": "code",
   "execution_count": 4,
   "id": "a4549f62",
   "metadata": {},
   "outputs": [],
   "source": [
    "def sum_range(start = 1, finish = 4, step = 1):\n",
    "    return sum(range(start, finish+1, step))"
   ]
  },
  {
   "cell_type": "code",
   "execution_count": 7,
   "id": "38ec3791",
   "metadata": {},
   "outputs": [
    {
     "data": {
      "text/plain": [
       "2"
      ]
     },
     "execution_count": 7,
     "metadata": {},
     "output_type": "execute_result"
    }
   ],
   "source": [
    "sum_range(2, 4, 3)"
   ]
  },
  {
   "cell_type": "markdown",
   "id": "795a0892",
   "metadata": {},
   "source": [
    "#### Given a string of any length with any characters in it, write a function to determine whether or not the string contains the whole word \"english\". The order of characters/spelling is important, a string \"agkjnenglishsad\" would return true while \"asdneglihsth\" would return false. Upper and lower case does not matter. Return values should be booleans (true/false).\n",
    "\n",
    "Examples:\n",
    "\n",
    "\n",
    "Input: \"FaagdnglishAGG\" | Output: false\n",
    "Input: \"SMFENgliSHasnD\" | Output: true\n"
   ]
  },
  {
   "cell_type": "code",
   "execution_count": 10,
   "id": "5d7a2aee",
   "metadata": {},
   "outputs": [],
   "source": [
    "def contains_english(input_string):\n",
    "    return('english' in input_string.lower())"
   ]
  },
  {
   "cell_type": "code",
   "execution_count": 11,
   "id": "1c2a74a4",
   "metadata": {},
   "outputs": [
    {
     "data": {
      "text/plain": [
       "True"
      ]
     },
     "execution_count": 11,
     "metadata": {},
     "output_type": "execute_result"
    }
   ],
   "source": [
    "contains_english('SMFENgliSHasnD')"
   ]
  },
  {
   "cell_type": "code",
   "execution_count": 12,
   "id": "42af1d16",
   "metadata": {},
   "outputs": [
    {
     "data": {
      "text/plain": [
       "False"
      ]
     },
     "execution_count": 12,
     "metadata": {},
     "output_type": "execute_result"
    }
   ],
   "source": [
    "contains_english('FhheqyrnfweF')"
   ]
  },
  {
   "cell_type": "markdown",
   "id": "347ff15a",
   "metadata": {},
   "source": [
    "#### Given an array of integers, write a function that returns an array of 2 integers. The first integer will be the count of the positive integers, and the second integer will be the sum of the negative integers. If the input is empty or null, return an empty array.\n",
    "\n",
    "Examples:\n",
    "\n",
    "\n",
    "Input: [1, -6, 5, 4, 3, -7, -10, 201, -3] | Output: [5, -26]\n",
    "Input: null | Output: []"
   ]
  },
  {
   "cell_type": "code",
   "execution_count": 19,
   "id": "27f359aa",
   "metadata": {},
   "outputs": [],
   "source": [
    "def count_pos_sum_neg(input= ''):\n",
    "    if input == '':\n",
    "        return []\n",
    "    input= pd.Series(input)\n",
    "    count_pos = input.where(input.values>0).count()\n",
    "    sum_neg = round(input.where(input.values<0).sum())\n",
    "    return [count_pos, sum_neg]"
   ]
  },
  {
   "cell_type": "code",
   "execution_count": 20,
   "id": "c92724ae",
   "metadata": {},
   "outputs": [
    {
     "data": {
      "text/plain": [
       "[5, -26]"
      ]
     },
     "execution_count": 20,
     "metadata": {},
     "output_type": "execute_result"
    }
   ],
   "source": [
    "count_pos_sum_neg([1, -6, 5, 4, 3, -7, -10, 201, -3])"
   ]
  },
  {
   "cell_type": "markdown",
   "id": "0dbba705",
   "metadata": {},
   "source": [
    "#### Write a function that translates an input string by replacing each character with a number representing the amount of times that character appears in the string. Then separate each individual number with a different character.\n",
    "\n",
    "Examples:\n",
    "\n",
    "\n",
    "Input: \"hello world\", \"-\" | Output: \"1-1-3-3-2-1-1-2-1-3-1\"\n",
    "Input: \"challenge\", \"/\" | Output: \"1/1/1/2/2/2/1/1/2\""
   ]
  },
  {
   "cell_type": "code",
   "execution_count": 26,
   "id": "b54f5941",
   "metadata": {},
   "outputs": [],
   "source": [
    "def char_to_char_count(input, split = ''):\n",
    "    output=''\n",
    "    for char in input:\n",
    "        output += f'{input.count(char)}{split}'\n",
    "    return output[:-1]"
   ]
  },
  {
   "cell_type": "code",
   "execution_count": 28,
   "id": "94dccb4c",
   "metadata": {},
   "outputs": [
    {
     "data": {
      "text/plain": [
       "'1-1-3-3-2-1-1-2-1-3-1'"
      ]
     },
     "execution_count": 28,
     "metadata": {},
     "output_type": "execute_result"
    }
   ],
   "source": [
    "char_to_char_count('hello world', '-')"
   ]
  },
  {
   "cell_type": "code",
   "execution_count": 30,
   "id": "8fe8c569",
   "metadata": {},
   "outputs": [
    {
     "data": {
      "text/plain": [
       "'1/1/1/2/2/2/1/1/2'"
      ]
     },
     "execution_count": 30,
     "metadata": {},
     "output_type": "execute_result"
    }
   ],
   "source": [
    "char_to_char_count('challenge', '/')"
   ]
  },
  {
   "cell_type": "markdown",
   "id": "b7b2f051",
   "metadata": {},
   "source": [
    "#### Given a string of names like this: \"Travis:Meyer;Gene:Carangal;Tom:Young;Jeff:Meyer\", write a function that makes the entire string uppercase and sorts it in alphabetical order by last name. If the last names are the same sort them by the first name. Put the last name in front of the first name, remove the colons and semicolons, put the names in parentheses and separate the names with commas.\n",
    "\n",
    "Example:\n",
    "\n",
    "The end string should look like this: \"(CARANGAL, GENE)(MEYER, JEFF)(MEYER, TRAVIS)(YOUNG, TOM)\""
   ]
  },
  {
   "cell_type": "code",
   "execution_count": 31,
   "id": "865519bd",
   "metadata": {},
   "outputs": [],
   "source": [
    "def sort_names(input):\n",
    "    names = input.split(';')\n",
    "    last_first_names = []\n",
    "    for name in names:\n",
    "        split_name = name.split(':')\n",
    "        last_first_names += [[split_name[1], split_name[0]]]\n",
    "    \n",
    "    last_first_names.sort()\n",
    "    output = ''\n",
    "    for name in last_first_names:\n",
    "        output += f'({name[0]},{name[1]})'\n",
    "    return output.upper()"
   ]
  },
  {
   "cell_type": "code",
   "execution_count": 32,
   "id": "02246512",
   "metadata": {},
   "outputs": [
    {
     "data": {
      "text/plain": [
       "'(CARANGAL,GENE)(MEYER,JEFF)(MEYER,TRAVIS)(YOUNG,TOM)'"
      ]
     },
     "execution_count": 32,
     "metadata": {},
     "output_type": "execute_result"
    }
   ],
   "source": [
    "sort_names(\"Travis:Meyer;Gene:Carangal;Tom:Young;Jeff:Meyer\")"
   ]
  },
  {
   "cell_type": "markdown",
   "id": "fc74dcc5",
   "metadata": {},
   "source": [
    "#### Write a function to calculate a person’s age based on the date entered in the format MM/DD/YYYY.\n",
    "\n",
    "Example:\n",
    "\n",
    "\n",
    "Input: 11/04/1982\n",
    "Output: 34"
   ]
  },
  {
   "cell_type": "code",
   "execution_count": 36,
   "id": "2d1b16e4",
   "metadata": {},
   "outputs": [],
   "source": [
    "from datetime import datetime"
   ]
  },
  {
   "cell_type": "code",
   "execution_count": 39,
   "id": "dba82938",
   "metadata": {},
   "outputs": [
    {
     "data": {
      "text/plain": [
       "60"
      ]
     },
     "execution_count": 39,
     "metadata": {},
     "output_type": "execute_result"
    }
   ],
   "source": [
    "def age_from_date(date):\n",
    "    birth_date = datetime.strptime(date, '%m/%d/%Y')\n",
    "    age = (datetime.today() - birth_date).days/365\n",
    "    return round(age)\n",
    "\n",
    "age_from_date('01/04/1962')"
   ]
  },
  {
   "cell_type": "markdown",
   "id": "fadde195",
   "metadata": {},
   "source": [
    "#### Write a function to convert a string into an array of words.\n",
    "\n",
    "Example:\n",
    "\n",
    "\n",
    "Input: \"Trick or Treat\"\n",
    "Output: [‘Trick’, ‘or’, ‘Treat’]"
   ]
  },
  {
   "cell_type": "code",
   "execution_count": 46,
   "id": "e0948e7e",
   "metadata": {},
   "outputs": [],
   "source": [
    "def str_arry(string):\n",
    "    split_string = string.split()\n",
    "    return [i for i in split_string]"
   ]
  },
  {
   "cell_type": "code",
   "execution_count": 47,
   "id": "11bb6760",
   "metadata": {},
   "outputs": [
    {
     "data": {
      "text/plain": [
       "['Trick', 'or', 'Treat']"
      ]
     },
     "execution_count": 47,
     "metadata": {},
     "output_type": "execute_result"
    }
   ],
   "source": [
    "str_arry('Trick or Treat')"
   ]
  },
  {
   "cell_type": "markdown",
   "id": "96d8f884",
   "metadata": {},
   "source": [
    "#### Write a function to count the number of occurrences of a substring in a given string.\n",
    "\n",
    "Example:\n",
    "\n",
    "\n",
    "Input: \"The pumpkin rolled down the hill and under someone’s car.\", \"the\"\n",
    "Output: 2\n"
   ]
  },
  {
   "cell_type": "code",
   "execution_count": 48,
   "id": "3f41291f",
   "metadata": {},
   "outputs": [],
   "source": [
    "def count_substring(string, substring):\n",
    "    return string.lower().count(substring)"
   ]
  },
  {
   "cell_type": "code",
   "execution_count": 56,
   "id": "f622ae23",
   "metadata": {},
   "outputs": [
    {
     "data": {
      "text/plain": [
       "10"
      ]
     },
     "execution_count": 56,
     "metadata": {},
     "output_type": "execute_result"
    }
   ],
   "source": [
    "count_substring(\"The pumpkin rolled down the hill and under someone’s car., the\",\" \")"
   ]
  },
  {
   "cell_type": "markdown",
   "id": "2a2adf21",
   "metadata": {},
   "source": [
    "#### Write a function to remove these special characters from a string: ~,!,$,&,%, ,#,@,-,_,^,? (yes, \"space\" is a character in that list)\n",
    "\n",
    "Examples:\n",
    "\n",
    "\n",
    "Input: \"Happy ~!&$%#@- Halloween\" | Output: \"HappyHalloween\"\n",
    "Input: \"I’ll bet living in a nudist-colony takes all the fun out of Halloween!!\" | Output: \"IllbetlivinginanudistcolonytakesallthefunoutofHalloween\""
   ]
  },
  {
   "cell_type": "code",
   "execution_count": 57,
   "id": "1cf80c67",
   "metadata": {},
   "outputs": [],
   "source": [
    "def remove_special_chars(string,special_chars = ['~','!','$','&','%','’',' ','#','@','-','_','^','?']):\n",
    "    for char in special_chars:\n",
    "        string = string.replace(char, '', )\n",
    "    return string"
   ]
  },
  {
   "cell_type": "code",
   "execution_count": 58,
   "id": "080dd6ac",
   "metadata": {},
   "outputs": [
    {
     "data": {
      "text/plain": [
       "'IllbetlivinginanudistcolonytakesallthefunoutofHalloween'"
      ]
     },
     "execution_count": 58,
     "metadata": {},
     "output_type": "execute_result"
    }
   ],
   "source": [
    "remove_special_chars(\"I’ll bet living in a nudist-colony takes all the fun out of Halloween!!\")"
   ]
  },
  {
   "cell_type": "markdown",
   "id": "071f840a",
   "metadata": {},
   "source": [
    "#### Write a function called \"multiply\" that takes two integers and returns the product. You are NOT allowed to use the * operator or any imported multiplication function. We will check your code.\n",
    "\n",
    "Example:\n",
    "\n",
    "\n",
    "Input: multiply(5, 6) | Output: 30\n",
    "Input: multiply(-1, 15) | Output: -15\n",
    "Input: multiply(-2, -7) | Output: 14"
   ]
  },
  {
   "cell_type": "code",
   "execution_count": 63,
   "id": "b23843fb",
   "metadata": {},
   "outputs": [],
   "source": [
    "def multiply(int1,int2):\n",
    "    product = 0\n",
    "    for i in range (1, int2 + 1):\n",
    "        product = product + int1\n",
    "    return product"
   ]
  },
  {
   "cell_type": "code",
   "execution_count": 64,
   "id": "d1fabaef",
   "metadata": {},
   "outputs": [
    {
     "data": {
      "text/plain": [
       "30"
      ]
     },
     "execution_count": 64,
     "metadata": {},
     "output_type": "execute_result"
    }
   ],
   "source": [
    "multiply(5, 6)"
   ]
  },
  {
   "cell_type": "markdown",
   "id": "e0508049",
   "metadata": {},
   "source": [
    "#### Write a function that takes a string and returns true if all of the characters are the same case, false otherwise.\n",
    "\n",
    "Examples:\n",
    "\n",
    "\n",
    "Input: \"hello world\" | Output: true\n",
    "Input: \"HELLO WORLD\" | Output: true\n",
    "Input: \"HeLLo wORld\" | Output: false"
   ]
  },
  {
   "cell_type": "code",
   "execution_count": 65,
   "id": "59dec0ea",
   "metadata": {},
   "outputs": [],
   "source": [
    "def same_case(string):\n",
    "    if string[0].isupper():\n",
    "        return string.isupper()\n",
    "    return string.islower()"
   ]
  },
  {
   "cell_type": "code",
   "execution_count": 66,
   "id": "776fd117",
   "metadata": {},
   "outputs": [
    {
     "data": {
      "text/plain": [
       "True"
      ]
     },
     "execution_count": 66,
     "metadata": {},
     "output_type": "execute_result"
    }
   ],
   "source": [
    "same_case(\"hello world\")"
   ]
  },
  {
   "cell_type": "markdown",
   "id": "e83e1621",
   "metadata": {},
   "source": [
    "#### Write a function that takes an array of integers and returns an array of integers where each number is the sum of itself and all of the previous numbers in the array.\n",
    "\n",
    "Example:\n",
    "\n",
    "\n",
    "Input: [1, 1, 1] | Output: [1, 2, 3]\n",
    "Input: [4, 2, 1, 3, 5] | Output: [4, 6, 7, 10, 15]"
   ]
  },
  {
   "cell_type": "code",
   "execution_count": 67,
   "id": "7909b74b",
   "metadata": {},
   "outputs": [],
   "source": [
    "def sum_array(array):\n",
    "    output = []\n",
    "    current_sum = 0\n",
    "    for num in array:\n",
    "        current_sum += num\n",
    "        output.append(current_sum)\n",
    "    return output"
   ]
  },
  {
   "cell_type": "code",
   "execution_count": 69,
   "id": "a53a970e",
   "metadata": {},
   "outputs": [
    {
     "data": {
      "text/plain": [
       "[1, 2, 3]"
      ]
     },
     "execution_count": 69,
     "metadata": {},
     "output_type": "execute_result"
    }
   ],
   "source": [
    "sum_array([1,1,1])"
   ]
  },
  {
   "cell_type": "markdown",
   "id": "0b0b54b9",
   "metadata": {},
   "source": [
    "#### An Isogram is a word that has no repeating letters, consecutive or not. Write a function that takes a string and returns true if it’s an isogram and false if it isn’t.\n",
    "\n",
    "Examples:\n",
    "\n",
    "\n",
    "Input: \"fish\" | Output: true\n",
    "Input: \"food\" | Output: false\n",
    "Input: \"color\" | Output: false\n"
   ]
  },
  {
   "cell_type": "code",
   "execution_count": 70,
   "id": "59c251db",
   "metadata": {},
   "outputs": [],
   "source": [
    "def is_isogram(string):\n",
    "    for char in string:\n",
    "        if(string.count(char)>1):\n",
    "            return False\n",
    "    return True"
   ]
  },
  {
   "cell_type": "code",
   "execution_count": 71,
   "id": "2eaab690",
   "metadata": {},
   "outputs": [
    {
     "data": {
      "text/plain": [
       "False"
      ]
     },
     "execution_count": 71,
     "metadata": {},
     "output_type": "execute_result"
    }
   ],
   "source": [
    "is_isogram('food')"
   ]
  },
  {
   "cell_type": "markdown",
   "id": "e2768c20",
   "metadata": {},
   "source": [
    "#### Write a function that takes a phone number with letters in it and converts it to one with only numbers. All input phone numbers will follow this pattern: \"###-###-####\" (Hint: Search for \"phone keypad\")\n",
    "\n",
    "Examples:\n",
    "\n",
    "\n",
    "Input: 210-367-CODE | Output: 210-367-2633\n",
    "Input: TRY-THE-FOOD | Output: 879-843-3663"
   ]
  },
  {
   "cell_type": "code",
   "execution_count": null,
   "id": "6580ce07",
   "metadata": {},
   "outputs": [],
   "source": [
    "def convert:"
   ]
  },
  {
   "cell_type": "markdown",
   "id": "ba6d9278",
   "metadata": {},
   "source": [
    "#### Write a function that returns all possible partitions of an array from left to right. With an n amount of elements in the input the returned array should have n-1 subarrays. An empty array should return an empty array.\n",
    "\n",
    "Examples:\n",
    "\n",
    "\n",
    "Input: [1, 5, 3, 2] | Output: [[[1], [5, 3, 2]], [[1, 5], [3, 2]], [[1, 5, 3], [2]]]\n",
    "Input: [a, b, c] | Output: [[[a], [b, c]], [[a, b], [c]]]"
   ]
  },
  {
   "cell_type": "code",
   "execution_count": null,
   "id": "744a14b3",
   "metadata": {},
   "outputs": [],
   "source": []
  }
 ],
 "metadata": {
  "kernelspec": {
   "display_name": "Python 3 (ipykernel)",
   "language": "python",
   "name": "python3"
  },
  "language_info": {
   "codemirror_mode": {
    "name": "ipython",
    "version": 3
   },
   "file_extension": ".py",
   "mimetype": "text/x-python",
   "name": "python",
   "nbconvert_exporter": "python",
   "pygments_lexer": "ipython3",
   "version": "3.9.7"
  }
 },
 "nbformat": 4,
 "nbformat_minor": 5
}
